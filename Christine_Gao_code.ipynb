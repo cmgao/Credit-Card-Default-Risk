{
 "cells": [
  {
   "cell_type": "markdown",
   "id": "df2c8a6d",
   "metadata": {},
   "source": [
    "# Red Ventures Data & Analytics Interview: Technical Assessment\n",
    "### December 15, 2022\n",
    "\n",
    "\n",
    "Firstname: Christine\n",
    "\n",
    "Lastname: Gao\n",
    "\n",
    "---"
   ]
  },
  {
   "cell_type": "markdown",
   "id": "29324525",
   "metadata": {},
   "source": [
    "# Initial Imports and Necessary Libraries"
   ]
  },
  {
   "cell_type": "code",
   "execution_count": 434,
   "id": "8e6d993d",
   "metadata": {},
   "outputs": [],
   "source": [
    "import pandas as pd\n",
    "import seaborn as sns\n",
    "import matplotlib\n",
    "import matplotlib.pyplot as plt\n",
    "import numpy as np\n",
    "from sklearn import preprocessing\n",
    "from sklearn.model_selection import train_test_split\n",
    "from sklearn.metrics import mean_squared_error\n",
    "from sklearn.metrics import r2_score\n",
    "\n",
    "from sklearn.neighbors import KNeighborsClassifier\n",
    "from sklearn.metrics import accuracy_score\n",
    "from xgboost import plot_importance\n",
    "\n",
    "from sklearn.metrics import accuracy_score, confusion_matrix, ConfusionMatrixDisplay, precision_recall_curve, auc, roc_curve\n",
    "from sklearn.metrics import plot_confusion_matrix\n",
    "from sklearn.metrics import plot_roc_curve\n",
    "from sklearn.metrics import plot_precision_recall_curve\n",
    "\n",
    "from xgboost import XGBClassifier\n",
    "from sklearn.feature_selection import SelectFromModel\n",
    "\n",
    "import warnings\n",
    "warnings.filterwarnings(\"ignore\")\n",
    "\n",
    "##we will only be ignoring warnings from the feature selection section"
   ]
  },
  {
   "cell_type": "code",
   "execution_count": 435,
   "id": "4175cabe",
   "metadata": {},
   "outputs": [],
   "source": [
    "from time import time\n",
    "def make_submission(name, data_frame):\n",
    "    \"\"\"\n",
    "    -----------\n",
    "        name:               string, your name\n",
    "        data_frame:         pandas DataFrame [5999, 2], customer ids and \n",
    "                                predicted probabilities on the test set\n",
    "    \"\"\"\n",
    "    cnames = data_frame.columns.values\n",
    "    if not isinstance(data_frame, pd.DataFrame):\n",
    "        raise ValueError('Expecting a pandas DataFrame for argument 2')\n",
    "    elif cnames[0] != 'customer_id':\n",
    "        raise ValueError('Column name 0 incorrect, expecting customer_id, received ' + cnames[0])\n",
    "        \n",
    "    t0 = time()\n",
    "    filename = name + '.csv'\n",
    "    data_frame.to_csv(filename, index = False)\n",
    "    return '{fname} written in {t:.{rd}f} ms'.format(fname = filename, t = (time() - t0) / 1000., rd = 3)\n"
   ]
  },
  {
   "cell_type": "markdown",
   "id": "8b14dbf7",
   "metadata": {},
   "source": [
    "# Import Data and overview"
   ]
  },
  {
   "cell_type": "code",
   "execution_count": 436,
   "id": "d4f986f0",
   "metadata": {},
   "outputs": [
    {
     "data": {
      "text/html": [
       "<div>\n",
       "<style scoped>\n",
       "    .dataframe tbody tr th:only-of-type {\n",
       "        vertical-align: middle;\n",
       "    }\n",
       "\n",
       "    .dataframe tbody tr th {\n",
       "        vertical-align: top;\n",
       "    }\n",
       "\n",
       "    .dataframe thead th {\n",
       "        text-align: right;\n",
       "    }\n",
       "</style>\n",
       "<table border=\"1\" class=\"dataframe\">\n",
       "  <thead>\n",
       "    <tr style=\"text-align: right;\">\n",
       "      <th></th>\n",
       "      <th>customer_id</th>\n",
       "      <th>pr_y</th>\n",
       "    </tr>\n",
       "  </thead>\n",
       "  <tbody>\n",
       "    <tr>\n",
       "      <th>0</th>\n",
       "      <td>24002</td>\n",
       "      <td>0.5</td>\n",
       "    </tr>\n",
       "    <tr>\n",
       "      <th>1</th>\n",
       "      <td>24003</td>\n",
       "      <td>0.5</td>\n",
       "    </tr>\n",
       "    <tr>\n",
       "      <th>2</th>\n",
       "      <td>24004</td>\n",
       "      <td>0.5</td>\n",
       "    </tr>\n",
       "    <tr>\n",
       "      <th>3</th>\n",
       "      <td>24005</td>\n",
       "      <td>0.5</td>\n",
       "    </tr>\n",
       "    <tr>\n",
       "      <th>4</th>\n",
       "      <td>24006</td>\n",
       "      <td>0.5</td>\n",
       "    </tr>\n",
       "  </tbody>\n",
       "</table>\n",
       "</div>"
      ],
      "text/plain": [
       "   customer_id  pr_y\n",
       "0        24002   0.5\n",
       "1        24003   0.5\n",
       "2        24004   0.5\n",
       "3        24005   0.5\n",
       "4        24006   0.5"
      ]
     },
     "execution_count": 436,
     "metadata": {},
     "output_type": "execute_result"
    }
   ],
   "source": [
    "example_pred = pd.read_csv('example_predictions.csv')\n",
    "example_pred.head()"
   ]
  },
  {
   "cell_type": "code",
   "execution_count": 437,
   "id": "5b5e32b7",
   "metadata": {},
   "outputs": [
    {
     "data": {
      "text/html": [
       "<div>\n",
       "<style scoped>\n",
       "    .dataframe tbody tr th:only-of-type {\n",
       "        vertical-align: middle;\n",
       "    }\n",
       "\n",
       "    .dataframe tbody tr th {\n",
       "        vertical-align: top;\n",
       "    }\n",
       "\n",
       "    .dataframe thead th {\n",
       "        text-align: right;\n",
       "    }\n",
       "</style>\n",
       "<table border=\"1\" class=\"dataframe\">\n",
       "  <thead>\n",
       "    <tr style=\"text-align: right;\">\n",
       "      <th></th>\n",
       "      <th>customer_id</th>\n",
       "      <th>limit_bal</th>\n",
       "      <th>sex</th>\n",
       "      <th>education</th>\n",
       "      <th>marriage</th>\n",
       "      <th>age</th>\n",
       "      <th>pay_1</th>\n",
       "      <th>pay_2</th>\n",
       "      <th>pay_3</th>\n",
       "      <th>pay_4</th>\n",
       "      <th>...</th>\n",
       "      <th>bill_amt4</th>\n",
       "      <th>bill_amt5</th>\n",
       "      <th>bill_amt6</th>\n",
       "      <th>pay_amt1</th>\n",
       "      <th>pay_amt2</th>\n",
       "      <th>pay_amt3</th>\n",
       "      <th>pay_amt4</th>\n",
       "      <th>pay_amt5</th>\n",
       "      <th>pay_amt6</th>\n",
       "      <th>default_oct</th>\n",
       "    </tr>\n",
       "  </thead>\n",
       "  <tbody>\n",
       "    <tr>\n",
       "      <th>0</th>\n",
       "      <td>1</td>\n",
       "      <td>1500</td>\n",
       "      <td>2.0</td>\n",
       "      <td>1.0</td>\n",
       "      <td>2.0</td>\n",
       "      <td>23.0</td>\n",
       "      <td>0.0</td>\n",
       "      <td>0.0</td>\n",
       "      <td>0.0</td>\n",
       "      <td>2.0</td>\n",
       "      <td>...</td>\n",
       "      <td>1463</td>\n",
       "      <td>938.0</td>\n",
       "      <td>698.0</td>\n",
       "      <td>75</td>\n",
       "      <td>150</td>\n",
       "      <td>86</td>\n",
       "      <td>0</td>\n",
       "      <td>50.0</td>\n",
       "      <td>50.0</td>\n",
       "      <td>yes</td>\n",
       "    </tr>\n",
       "    <tr>\n",
       "      <th>1</th>\n",
       "      <td>2</td>\n",
       "      <td>8500</td>\n",
       "      <td>2.0</td>\n",
       "      <td>2.0</td>\n",
       "      <td>2.0</td>\n",
       "      <td>29.0</td>\n",
       "      <td>0.0</td>\n",
       "      <td>0.0</td>\n",
       "      <td>0.0</td>\n",
       "      <td>0.0</td>\n",
       "      <td>...</td>\n",
       "      <td>8364</td>\n",
       "      <td>8275.0</td>\n",
       "      <td>8425.0</td>\n",
       "      <td>300</td>\n",
       "      <td>400</td>\n",
       "      <td>315</td>\n",
       "      <td>300</td>\n",
       "      <td>325.0</td>\n",
       "      <td>305.0</td>\n",
       "      <td>no</td>\n",
       "    </tr>\n",
       "    <tr>\n",
       "      <th>2</th>\n",
       "      <td>3</td>\n",
       "      <td>1000</td>\n",
       "      <td>1.0</td>\n",
       "      <td>1.0</td>\n",
       "      <td>2.0</td>\n",
       "      <td>22.0</td>\n",
       "      <td>0.0</td>\n",
       "      <td>0.0</td>\n",
       "      <td>0.0</td>\n",
       "      <td>0.0</td>\n",
       "      <td>...</td>\n",
       "      <td>933</td>\n",
       "      <td>772.0</td>\n",
       "      <td>794.0</td>\n",
       "      <td>150</td>\n",
       "      <td>150</td>\n",
       "      <td>150</td>\n",
       "      <td>24</td>\n",
       "      <td>105.0</td>\n",
       "      <td>110.0</td>\n",
       "      <td>no</td>\n",
       "    </tr>\n",
       "    <tr>\n",
       "      <th>3</th>\n",
       "      <td>4</td>\n",
       "      <td>10500</td>\n",
       "      <td>1.0</td>\n",
       "      <td>1.0</td>\n",
       "      <td>1.0</td>\n",
       "      <td>31.0</td>\n",
       "      <td>0.0</td>\n",
       "      <td>0.0</td>\n",
       "      <td>0.0</td>\n",
       "      <td>0.0</td>\n",
       "      <td>...</td>\n",
       "      <td>7190</td>\n",
       "      <td>7229.0</td>\n",
       "      <td>7340.0</td>\n",
       "      <td>255</td>\n",
       "      <td>260</td>\n",
       "      <td>258</td>\n",
       "      <td>260</td>\n",
       "      <td>265.0</td>\n",
       "      <td>307.0</td>\n",
       "      <td>no</td>\n",
       "    </tr>\n",
       "    <tr>\n",
       "      <th>4</th>\n",
       "      <td>5</td>\n",
       "      <td>10500</td>\n",
       "      <td>2.0</td>\n",
       "      <td>2.0</td>\n",
       "      <td>1.0</td>\n",
       "      <td>44.0</td>\n",
       "      <td>0.0</td>\n",
       "      <td>0.0</td>\n",
       "      <td>0.0</td>\n",
       "      <td>0.0</td>\n",
       "      <td>...</td>\n",
       "      <td>3558</td>\n",
       "      <td>3592.0</td>\n",
       "      <td>3496.0</td>\n",
       "      <td>180</td>\n",
       "      <td>155</td>\n",
       "      <td>145</td>\n",
       "      <td>130</td>\n",
       "      <td>135.0</td>\n",
       "      <td>200.0</td>\n",
       "      <td>no</td>\n",
       "    </tr>\n",
       "  </tbody>\n",
       "</table>\n",
       "<p>5 rows × 25 columns</p>\n",
       "</div>"
      ],
      "text/plain": [
       "   customer_id  limit_bal  sex  education  marriage   age  pay_1  pay_2  \\\n",
       "0            1       1500  2.0        1.0       2.0  23.0    0.0    0.0   \n",
       "1            2       8500  2.0        2.0       2.0  29.0    0.0    0.0   \n",
       "2            3       1000  1.0        1.0       2.0  22.0    0.0    0.0   \n",
       "3            4      10500  1.0        1.0       1.0  31.0    0.0    0.0   \n",
       "4            5      10500  2.0        2.0       1.0  44.0    0.0    0.0   \n",
       "\n",
       "   pay_3  pay_4  ...  bill_amt4  bill_amt5  bill_amt6  pay_amt1  pay_amt2  \\\n",
       "0    0.0    2.0  ...       1463      938.0      698.0        75       150   \n",
       "1    0.0    0.0  ...       8364     8275.0     8425.0       300       400   \n",
       "2    0.0    0.0  ...        933      772.0      794.0       150       150   \n",
       "3    0.0    0.0  ...       7190     7229.0     7340.0       255       260   \n",
       "4    0.0    0.0  ...       3558     3592.0     3496.0       180       155   \n",
       "\n",
       "   pay_amt3  pay_amt4  pay_amt5  pay_amt6  default_oct  \n",
       "0        86         0      50.0      50.0          yes  \n",
       "1       315       300     325.0     305.0           no  \n",
       "2       150        24     105.0     110.0           no  \n",
       "3       258       260     265.0     307.0           no  \n",
       "4       145       130     135.0     200.0           no  \n",
       "\n",
       "[5 rows x 25 columns]"
      ]
     },
     "execution_count": 437,
     "metadata": {},
     "output_type": "execute_result"
    }
   ],
   "source": [
    "test = pd.read_csv('test.csv')\n",
    "df = pd.read_csv('train.csv') ##we'll treat the train csv as df for now for ease of reference thorughout the notebook\n",
    "df.head()"
   ]
  },
  {
   "cell_type": "code",
   "execution_count": 438,
   "id": "2a8821f1",
   "metadata": {},
   "outputs": [
    {
     "name": "stdout",
     "output_type": "stream",
     "text": [
      "<class 'pandas.core.frame.DataFrame'>\n",
      "RangeIndex: 24001 entries, 0 to 24000\n",
      "Data columns (total 25 columns):\n",
      " #   Column       Non-Null Count  Dtype  \n",
      "---  ------       --------------  -----  \n",
      " 0   customer_id  24001 non-null  int64  \n",
      " 1   limit_bal    24001 non-null  int64  \n",
      " 2   sex          24001 non-null  float64\n",
      " 3   education    24001 non-null  float64\n",
      " 4   marriage     24001 non-null  float64\n",
      " 5   age          24001 non-null  float64\n",
      " 6   pay_1        24001 non-null  float64\n",
      " 7   pay_2        24001 non-null  float64\n",
      " 8   pay_3        24001 non-null  float64\n",
      " 9   pay_4        24001 non-null  float64\n",
      " 10  pay_5        23819 non-null  float64\n",
      " 11  pay_6        22790 non-null  float64\n",
      " 12  bill_amt1    24001 non-null  int64  \n",
      " 13  bill_amt2    24001 non-null  int64  \n",
      " 14  bill_amt3    24001 non-null  int64  \n",
      " 15  bill_amt4    24001 non-null  int64  \n",
      " 16  bill_amt5    23819 non-null  float64\n",
      " 17  bill_amt6    22790 non-null  float64\n",
      " 18  pay_amt1     24001 non-null  int64  \n",
      " 19  pay_amt2     24001 non-null  int64  \n",
      " 20  pay_amt3     24001 non-null  int64  \n",
      " 21  pay_amt4     24001 non-null  int64  \n",
      " 22  pay_amt5     23819 non-null  float64\n",
      " 23  pay_amt6     22790 non-null  float64\n",
      " 24  default_oct  24001 non-null  object \n",
      "dtypes: float64(14), int64(10), object(1)\n",
      "memory usage: 4.6+ MB\n"
     ]
    }
   ],
   "source": [
    "df.info()\n",
    "##overview of variables in the dataset"
   ]
  },
  {
   "cell_type": "markdown",
   "id": "7957c173",
   "metadata": {},
   "source": [
    "### Comment on null values\n",
    "\n",
    "There are null values in the last two columns of payment history - lets consider this as a potential indicator that the payment was payed off in full or the individual defaulted prior to October\n",
    "\n",
    "Null values in last two columns of bill statement in dolalrs\n",
    "\n",
    "Null values in last two columns of previous payment in dollars"
   ]
  },
  {
   "cell_type": "code",
   "execution_count": 439,
   "id": "22bce671",
   "metadata": {},
   "outputs": [],
   "source": [
    "#df.loc[df['pay_5'].isnull()]"
   ]
  },
  {
   "cell_type": "code",
   "execution_count": 440,
   "id": "5e517e7a",
   "metadata": {},
   "outputs": [
    {
     "data": {
      "text/plain": [
       "False"
      ]
     },
     "execution_count": 440,
     "metadata": {},
     "output_type": "execute_result"
    }
   ],
   "source": [
    "bool(df.duplicated(subset='customer_id').any()) \n",
    "\n",
    "##No duplicate customer id's "
   ]
  },
  {
   "cell_type": "code",
   "execution_count": 441,
   "id": "b5e5be5d",
   "metadata": {},
   "outputs": [
    {
     "data": {
      "text/plain": [
       "no     18692\n",
       "yes     5309\n",
       "Name: default_oct, dtype: int64"
      ]
     },
     "execution_count": 441,
     "metadata": {},
     "output_type": "execute_result"
    }
   ],
   "source": [
    "df['default_oct'].value_counts()"
   ]
  },
  {
   "cell_type": "code",
   "execution_count": 442,
   "id": "ea39e41d",
   "metadata": {},
   "outputs": [
    {
     "data": {
      "text/plain": [
       "2.0    14498\n",
       "1.0     9503\n",
       "Name: sex, dtype: int64"
      ]
     },
     "execution_count": 442,
     "metadata": {},
     "output_type": "execute_result"
    }
   ],
   "source": [
    "df['sex'].value_counts()"
   ]
  },
  {
   "cell_type": "code",
   "execution_count": 481,
   "id": "3656d666",
   "metadata": {},
   "outputs": [
    {
     "data": {
      "text/plain": [
       "(array([1.0043e+04, 6.2680e+03, 4.0740e+03, 2.2070e+03, 1.2430e+03,\n",
       "        1.0300e+02, 4.6000e+01, 1.6000e+01, 0.0000e+00, 1.0000e+00]),\n",
       " array([  500.,  5450., 10400., 15350., 20300., 25250., 30200., 35150.,\n",
       "        40100., 45050., 50000.]),\n",
       " <BarContainer object of 10 artists>)"
      ]
     },
     "execution_count": 481,
     "metadata": {},
     "output_type": "execute_result"
    },
    {
     "data": {
      "image/png": "[encoded data removed]",
      "text/plain": [
       "<Figure size 432x288 with 1 Axes>"
      ]
     },
     "metadata": {
      "needs_background": "light"
     },
     "output_type": "display_data"
    }
   ],
   "source": [
    "plt.hist(df['limit_bal'])"
   ]
  },
  {
   "cell_type": "code",
   "execution_count": 443,
   "id": "fb83537e",
   "metadata": {},
   "outputs": [
    {
     "data": {
      "text/plain": [
       "(array([4.110e+03, 6.598e+03, 5.173e+03, 3.879e+03, 2.096e+03, 1.465e+03,\n",
       "        5.050e+02, 1.390e+02, 3.200e+01, 4.000e+00]),\n",
       " array([21. , 26.8, 32.6, 38.4, 44.2, 50. , 55.8, 61.6, 67.4, 73.2, 79. ]),\n",
       " <BarContainer object of 10 artists>)"
      ]
     },
     "execution_count": 443,
     "metadata": {},
     "output_type": "execute_result"
    },
    {
     "data": {
      "image/png": "[encoded data removed]",
      "text/plain": [
       "<Figure size 432x288 with 1 Axes>"
      ]
     },
     "metadata": {
      "needs_background": "light"
     },
     "output_type": "display_data"
    }
   ],
   "source": [
    "plt.hist(df['age'])"
   ]
  },
  {
   "cell_type": "code",
   "execution_count": 482,
   "id": "6df9112c",
   "metadata": {},
   "outputs": [],
   "source": [
    "bins= [21,30,40,50,60,70,80]\n",
    "labels = ['20-30','30-40','40-50','50-60','60-70','70-80']\n",
    "df['age_bin'] = pd.cut(df['age'],bins=bins, labels=labels,right=False)"
   ]
  },
  {
   "cell_type": "code",
   "execution_count": 483,
   "id": "9b6361f6",
   "metadata": {},
   "outputs": [
    {
     "data": {
      "text/plain": [
       "(array([7680.,    0., 8970.,    0., 5206.,    0., 1878.,    0.,  248.,\n",
       "          19.]),\n",
       " array([0. , 0.5, 1. , 1.5, 2. , 2.5, 3. , 3.5, 4. , 4.5, 5. ]),\n",
       " <BarContainer object of 10 artists>)"
      ]
     },
     "execution_count": 483,
     "metadata": {},
     "output_type": "execute_result"
    },
    {
     "data": {
      "image/png": "[encoded data removed]",
      "text/plain": [
       "<Figure size 432x288 with 1 Axes>"
      ]
     },
     "metadata": {
      "needs_background": "light"
     },
     "output_type": "display_data"
    }
   ],
   "source": [
    "plt.hist(df['age_bin'])"
   ]
  },
  {
   "cell_type": "code",
   "execution_count": 444,
   "id": "ee623a67",
   "metadata": {},
   "outputs": [
    {
     "data": {
      "text/plain": [
       "(array([1.0043e+04, 6.2680e+03, 4.0740e+03, 2.2070e+03, 1.2430e+03,\n",
       "        1.0300e+02, 4.6000e+01, 1.6000e+01, 0.0000e+00, 1.0000e+00]),\n",
       " array([  500.,  5450., 10400., 15350., 20300., 25250., 30200., 35150.,\n",
       "        40100., 45050., 50000.]),\n",
       " <BarContainer object of 10 artists>)"
      ]
     },
     "execution_count": 444,
     "metadata": {},
     "output_type": "execute_result"
    },
    {
     "data": {
      "image/png": "[encoded data removed]",
      "text/plain": [
       "<Figure size 432x288 with 1 Axes>"
      ]
     },
     "metadata": {
      "needs_background": "light"
     },
     "output_type": "display_data"
    }
   ],
   "source": [
    "plt.hist(df['limit_bal'])"
   ]
  },
  {
   "cell_type": "code",
   "execution_count": 445,
   "id": "4f73cfc6",
   "metadata": {},
   "outputs": [
    {
     "data": {
      "text/plain": [
       "{'whiskers': [<matplotlib.lines.Line2D at 0x7fc483bb3c10>,\n",
       "  <matplotlib.lines.Line2D at 0x7fc483bb3250>],\n",
       " 'caps': [<matplotlib.lines.Line2D at 0x7fc483bb3670>,\n",
       "  <matplotlib.lines.Line2D at 0x7fc483bb30d0>],\n",
       " 'boxes': [<matplotlib.lines.Line2D at 0x7fc483bb3160>],\n",
       " 'medians': [<matplotlib.lines.Line2D at 0x7fc483bae610>],\n",
       " 'fliers': [<matplotlib.lines.Line2D at 0x7fc483bae820>],\n",
       " 'means': []}"
      ]
     },
     "execution_count": 445,
     "metadata": {},
     "output_type": "execute_result"
    },
    {
     "data": {
      "image/png": "[encoded data removed]",
      "text/plain": [
       "<Figure size 432x288 with 1 Axes>"
      ]
     },
     "metadata": {
      "needs_background": "light"
     },
     "output_type": "display_data"
    }
   ],
   "source": [
    "plt.boxplot(df['limit_bal'])"
   ]
  },
  {
   "cell_type": "markdown",
   "id": "f82392ec",
   "metadata": {},
   "source": [
    "There does appear to be an outlier in terms of limit balance "
   ]
  },
  {
   "cell_type": "code",
   "execution_count": 446,
   "id": "1d1fd77b",
   "metadata": {},
   "outputs": [
    {
     "data": {
      "text/html": [
       "<div>\n",
       "<style scoped>\n",
       "    .dataframe tbody tr th:only-of-type {\n",
       "        vertical-align: middle;\n",
       "    }\n",
       "\n",
       "    .dataframe tbody tr th {\n",
       "        vertical-align: top;\n",
       "    }\n",
       "\n",
       "    .dataframe thead th {\n",
       "        text-align: right;\n",
       "    }\n",
       "</style>\n",
       "<table border=\"1\" class=\"dataframe\">\n",
       "  <thead>\n",
       "    <tr style=\"text-align: right;\">\n",
       "      <th></th>\n",
       "      <th>customer_id</th>\n",
       "      <th>limit_bal</th>\n",
       "      <th>sex</th>\n",
       "      <th>education</th>\n",
       "      <th>marriage</th>\n",
       "      <th>age</th>\n",
       "      <th>pay_1</th>\n",
       "      <th>pay_2</th>\n",
       "      <th>pay_3</th>\n",
       "      <th>pay_4</th>\n",
       "      <th>...</th>\n",
       "      <th>bill_amt4</th>\n",
       "      <th>bill_amt5</th>\n",
       "      <th>bill_amt6</th>\n",
       "      <th>pay_amt1</th>\n",
       "      <th>pay_amt2</th>\n",
       "      <th>pay_amt3</th>\n",
       "      <th>pay_amt4</th>\n",
       "      <th>pay_amt5</th>\n",
       "      <th>pay_amt6</th>\n",
       "      <th>default_oct</th>\n",
       "    </tr>\n",
       "  </thead>\n",
       "  <tbody>\n",
       "    <tr>\n",
       "      <th>9303</th>\n",
       "      <td>9304</td>\n",
       "      <td>50000</td>\n",
       "      <td>2.0</td>\n",
       "      <td>1.0</td>\n",
       "      <td>1.0</td>\n",
       "      <td>47.0</td>\n",
       "      <td>0.0</td>\n",
       "      <td>0.0</td>\n",
       "      <td>0.0</td>\n",
       "      <td>-1.0</td>\n",
       "      <td>...</td>\n",
       "      <td>44579</td>\n",
       "      <td>46358.0</td>\n",
       "      <td>48083.0</td>\n",
       "      <td>2539</td>\n",
       "      <td>2536</td>\n",
       "      <td>44802</td>\n",
       "      <td>2500</td>\n",
       "      <td>2500.0</td>\n",
       "      <td>2512.0</td>\n",
       "      <td>no</td>\n",
       "    </tr>\n",
       "  </tbody>\n",
       "</table>\n",
       "<p>1 rows × 25 columns</p>\n",
       "</div>"
      ],
      "text/plain": [
       "      customer_id  limit_bal  sex  education  marriage   age  pay_1  pay_2  \\\n",
       "9303         9304      50000  2.0        1.0       1.0  47.0    0.0    0.0   \n",
       "\n",
       "      pay_3  pay_4  ...  bill_amt4  bill_amt5  bill_amt6  pay_amt1  pay_amt2  \\\n",
       "9303    0.0   -1.0  ...      44579    46358.0    48083.0      2539      2536   \n",
       "\n",
       "      pay_amt3  pay_amt4  pay_amt5  pay_amt6  default_oct  \n",
       "9303     44802      2500    2500.0    2512.0           no  \n",
       "\n",
       "[1 rows x 25 columns]"
      ]
     },
     "execution_count": 446,
     "metadata": {},
     "output_type": "execute_result"
    }
   ],
   "source": [
    "df.loc[df['limit_bal'] > 40000]"
   ]
  },
  {
   "cell_type": "markdown",
   "id": "195b281a",
   "metadata": {},
   "source": [
    "Upon closer inspection, this customer has incredible credit history - no late payments and no default, so this is a valid data point."
   ]
  },
  {
   "cell_type": "markdown",
   "id": "9fbf4a72",
   "metadata": {},
   "source": [
    "# Data Cleaning\n",
    "\n",
    "Comments on discrete values in the dataset which are not defined from the codebook"
   ]
  },
  {
   "cell_type": "code",
   "execution_count": 447,
   "id": "16c61493",
   "metadata": {},
   "outputs": [
    {
     "data": {
      "text/plain": [
       "2.0    11248\n",
       "1.0     8424\n",
       "3.0     3942\n",
       "5.0      234\n",
       "4.0      104\n",
       "6.0       39\n",
       "0.0       10\n",
       "Name: education, dtype: int64"
      ]
     },
     "execution_count": 447,
     "metadata": {},
     "output_type": "execute_result"
    }
   ],
   "source": [
    "df['education'].value_counts()"
   ]
  },
  {
   "cell_type": "markdown",
   "id": "211024f9",
   "metadata": {},
   "source": [
    "Since it is unclear what education values beyond 4 indicate, we'll combine 0,4,5,6 as 'others'"
   ]
  },
  {
   "cell_type": "code",
   "execution_count": 448,
   "id": "ac101d10",
   "metadata": {},
   "outputs": [
    {
     "data": {
      "text/plain": [
       "2.0    11248\n",
       "1.0     8424\n",
       "3.0     3942\n",
       "4.0      387\n",
       "Name: education, dtype: int64"
      ]
     },
     "execution_count": 448,
     "metadata": {},
     "output_type": "execute_result"
    }
   ],
   "source": [
    "df['education'] = df['education'].replace({0:4,5:4,6:4})\n",
    "df['education'].value_counts()"
   ]
  },
  {
   "cell_type": "code",
   "execution_count": 449,
   "id": "af99adb2",
   "metadata": {},
   "outputs": [
    {
     "data": {
      "text/plain": [
       "2.0    12746\n",
       "1.0    10945\n",
       "3.0      268\n",
       "0.0       42\n",
       "Name: marriage, dtype: int64"
      ]
     },
     "execution_count": 449,
     "metadata": {},
     "output_type": "execute_result"
    }
   ],
   "source": [
    "df['marriage'].value_counts()"
   ]
  },
  {
   "cell_type": "markdown",
   "id": "7e0e95e0",
   "metadata": {},
   "source": [
    "Unclear what values of 0 are in marriage, so we'll group these with 'others'"
   ]
  },
  {
   "cell_type": "code",
   "execution_count": 450,
   "id": "1114d067",
   "metadata": {},
   "outputs": [
    {
     "data": {
      "text/plain": [
       "2.0    12746\n",
       "1.0    10945\n",
       "3.0      310\n",
       "Name: marriage, dtype: int64"
      ]
     },
     "execution_count": 450,
     "metadata": {},
     "output_type": "execute_result"
    }
   ],
   "source": [
    "df['marriage'] = df['marriage'].replace({0:3})\n",
    "df['marriage'].value_counts()"
   ]
  },
  {
   "cell_type": "markdown",
   "id": "abd1a981",
   "metadata": {},
   "source": [
    "Create new column with values of 0 or 1 for our 'default_oct' - for ease of analysis later on"
   ]
  },
  {
   "cell_type": "code",
   "execution_count": 451,
   "id": "59ce9149",
   "metadata": {},
   "outputs": [],
   "source": [
    "df['default_oct_imp'] = pd.Series(np.where(df['default_oct'].values == 'yes', 1, 0),\n",
    "          df.index)"
   ]
  },
  {
   "cell_type": "code",
   "execution_count": 452,
   "id": "dadd4a95",
   "metadata": {
    "scrolled": false
   },
   "outputs": [
    {
     "data": {
      "text/html": [
       "<div>\n",
       "<style scoped>\n",
       "    .dataframe tbody tr th:only-of-type {\n",
       "        vertical-align: middle;\n",
       "    }\n",
       "\n",
       "    .dataframe tbody tr th {\n",
       "        vertical-align: top;\n",
       "    }\n",
       "\n",
       "    .dataframe thead th {\n",
       "        text-align: right;\n",
       "    }\n",
       "</style>\n",
       "<table border=\"1\" class=\"dataframe\">\n",
       "  <thead>\n",
       "    <tr style=\"text-align: right;\">\n",
       "      <th></th>\n",
       "      <th>customer_id</th>\n",
       "      <th>limit_bal</th>\n",
       "      <th>sex</th>\n",
       "      <th>education</th>\n",
       "      <th>marriage</th>\n",
       "      <th>age</th>\n",
       "      <th>pay_1</th>\n",
       "      <th>pay_2</th>\n",
       "      <th>pay_3</th>\n",
       "      <th>pay_4</th>\n",
       "      <th>...</th>\n",
       "      <th>bill_amt5</th>\n",
       "      <th>bill_amt6</th>\n",
       "      <th>pay_amt1</th>\n",
       "      <th>pay_amt2</th>\n",
       "      <th>pay_amt3</th>\n",
       "      <th>pay_amt4</th>\n",
       "      <th>pay_amt5</th>\n",
       "      <th>pay_amt6</th>\n",
       "      <th>default_oct</th>\n",
       "      <th>default_oct_imp</th>\n",
       "    </tr>\n",
       "  </thead>\n",
       "  <tbody>\n",
       "    <tr>\n",
       "      <th>0</th>\n",
       "      <td>1</td>\n",
       "      <td>1500</td>\n",
       "      <td>2.0</td>\n",
       "      <td>1.0</td>\n",
       "      <td>2.0</td>\n",
       "      <td>23.0</td>\n",
       "      <td>0.0</td>\n",
       "      <td>0.0</td>\n",
       "      <td>0.0</td>\n",
       "      <td>2.0</td>\n",
       "      <td>...</td>\n",
       "      <td>938.0</td>\n",
       "      <td>698.0</td>\n",
       "      <td>75</td>\n",
       "      <td>150</td>\n",
       "      <td>86</td>\n",
       "      <td>0</td>\n",
       "      <td>50.0</td>\n",
       "      <td>50.0</td>\n",
       "      <td>yes</td>\n",
       "      <td>1</td>\n",
       "    </tr>\n",
       "    <tr>\n",
       "      <th>1</th>\n",
       "      <td>2</td>\n",
       "      <td>8500</td>\n",
       "      <td>2.0</td>\n",
       "      <td>2.0</td>\n",
       "      <td>2.0</td>\n",
       "      <td>29.0</td>\n",
       "      <td>0.0</td>\n",
       "      <td>0.0</td>\n",
       "      <td>0.0</td>\n",
       "      <td>0.0</td>\n",
       "      <td>...</td>\n",
       "      <td>8275.0</td>\n",
       "      <td>8425.0</td>\n",
       "      <td>300</td>\n",
       "      <td>400</td>\n",
       "      <td>315</td>\n",
       "      <td>300</td>\n",
       "      <td>325.0</td>\n",
       "      <td>305.0</td>\n",
       "      <td>no</td>\n",
       "      <td>0</td>\n",
       "    </tr>\n",
       "    <tr>\n",
       "      <th>2</th>\n",
       "      <td>3</td>\n",
       "      <td>1000</td>\n",
       "      <td>1.0</td>\n",
       "      <td>1.0</td>\n",
       "      <td>2.0</td>\n",
       "      <td>22.0</td>\n",
       "      <td>0.0</td>\n",
       "      <td>0.0</td>\n",
       "      <td>0.0</td>\n",
       "      <td>0.0</td>\n",
       "      <td>...</td>\n",
       "      <td>772.0</td>\n",
       "      <td>794.0</td>\n",
       "      <td>150</td>\n",
       "      <td>150</td>\n",
       "      <td>150</td>\n",
       "      <td>24</td>\n",
       "      <td>105.0</td>\n",
       "      <td>110.0</td>\n",
       "      <td>no</td>\n",
       "      <td>0</td>\n",
       "    </tr>\n",
       "    <tr>\n",
       "      <th>3</th>\n",
       "      <td>4</td>\n",
       "      <td>10500</td>\n",
       "      <td>1.0</td>\n",
       "      <td>1.0</td>\n",
       "      <td>1.0</td>\n",
       "      <td>31.0</td>\n",
       "      <td>0.0</td>\n",
       "      <td>0.0</td>\n",
       "      <td>0.0</td>\n",
       "      <td>0.0</td>\n",
       "      <td>...</td>\n",
       "      <td>7229.0</td>\n",
       "      <td>7340.0</td>\n",
       "      <td>255</td>\n",
       "      <td>260</td>\n",
       "      <td>258</td>\n",
       "      <td>260</td>\n",
       "      <td>265.0</td>\n",
       "      <td>307.0</td>\n",
       "      <td>no</td>\n",
       "      <td>0</td>\n",
       "    </tr>\n",
       "    <tr>\n",
       "      <th>4</th>\n",
       "      <td>5</td>\n",
       "      <td>10500</td>\n",
       "      <td>2.0</td>\n",
       "      <td>2.0</td>\n",
       "      <td>1.0</td>\n",
       "      <td>44.0</td>\n",
       "      <td>0.0</td>\n",
       "      <td>0.0</td>\n",
       "      <td>0.0</td>\n",
       "      <td>0.0</td>\n",
       "      <td>...</td>\n",
       "      <td>3592.0</td>\n",
       "      <td>3496.0</td>\n",
       "      <td>180</td>\n",
       "      <td>155</td>\n",
       "      <td>145</td>\n",
       "      <td>130</td>\n",
       "      <td>135.0</td>\n",
       "      <td>200.0</td>\n",
       "      <td>no</td>\n",
       "      <td>0</td>\n",
       "    </tr>\n",
       "    <tr>\n",
       "      <th>...</th>\n",
       "      <td>...</td>\n",
       "      <td>...</td>\n",
       "      <td>...</td>\n",
       "      <td>...</td>\n",
       "      <td>...</td>\n",
       "      <td>...</td>\n",
       "      <td>...</td>\n",
       "      <td>...</td>\n",
       "      <td>...</td>\n",
       "      <td>...</td>\n",
       "      <td>...</td>\n",
       "      <td>...</td>\n",
       "      <td>...</td>\n",
       "      <td>...</td>\n",
       "      <td>...</td>\n",
       "      <td>...</td>\n",
       "      <td>...</td>\n",
       "      <td>...</td>\n",
       "      <td>...</td>\n",
       "      <td>...</td>\n",
       "      <td>...</td>\n",
       "    </tr>\n",
       "    <tr>\n",
       "      <th>23996</th>\n",
       "      <td>23997</td>\n",
       "      <td>1500</td>\n",
       "      <td>2.0</td>\n",
       "      <td>2.0</td>\n",
       "      <td>2.0</td>\n",
       "      <td>27.0</td>\n",
       "      <td>2.0</td>\n",
       "      <td>-1.0</td>\n",
       "      <td>0.0</td>\n",
       "      <td>0.0</td>\n",
       "      <td>...</td>\n",
       "      <td>73.0</td>\n",
       "      <td>1402.0</td>\n",
       "      <td>149</td>\n",
       "      <td>73</td>\n",
       "      <td>0</td>\n",
       "      <td>73</td>\n",
       "      <td>1402.0</td>\n",
       "      <td>55.0</td>\n",
       "      <td>yes</td>\n",
       "      <td>1</td>\n",
       "    </tr>\n",
       "    <tr>\n",
       "      <th>23997</th>\n",
       "      <td>23998</td>\n",
       "      <td>7000</td>\n",
       "      <td>1.0</td>\n",
       "      <td>2.0</td>\n",
       "      <td>2.0</td>\n",
       "      <td>34.0</td>\n",
       "      <td>0.0</td>\n",
       "      <td>0.0</td>\n",
       "      <td>0.0</td>\n",
       "      <td>0.0</td>\n",
       "      <td>...</td>\n",
       "      <td>2946.0</td>\n",
       "      <td>2932.0</td>\n",
       "      <td>250</td>\n",
       "      <td>110</td>\n",
       "      <td>115</td>\n",
       "      <td>115</td>\n",
       "      <td>105.0</td>\n",
       "      <td>100.0</td>\n",
       "      <td>no</td>\n",
       "      <td>0</td>\n",
       "    </tr>\n",
       "    <tr>\n",
       "      <th>23998</th>\n",
       "      <td>23999</td>\n",
       "      <td>8000</td>\n",
       "      <td>1.0</td>\n",
       "      <td>1.0</td>\n",
       "      <td>2.0</td>\n",
       "      <td>41.0</td>\n",
       "      <td>0.0</td>\n",
       "      <td>0.0</td>\n",
       "      <td>0.0</td>\n",
       "      <td>0.0</td>\n",
       "      <td>...</td>\n",
       "      <td>2457.0</td>\n",
       "      <td>2616.0</td>\n",
       "      <td>100</td>\n",
       "      <td>100</td>\n",
       "      <td>300</td>\n",
       "      <td>0</td>\n",
       "      <td>210.0</td>\n",
       "      <td>100.0</td>\n",
       "      <td>no</td>\n",
       "      <td>0</td>\n",
       "    </tr>\n",
       "    <tr>\n",
       "      <th>23999</th>\n",
       "      <td>24000</td>\n",
       "      <td>1000</td>\n",
       "      <td>2.0</td>\n",
       "      <td>3.0</td>\n",
       "      <td>1.0</td>\n",
       "      <td>50.0</td>\n",
       "      <td>-1.0</td>\n",
       "      <td>-1.0</td>\n",
       "      <td>-1.0</td>\n",
       "      <td>-1.0</td>\n",
       "      <td>...</td>\n",
       "      <td>0.0</td>\n",
       "      <td>0.0</td>\n",
       "      <td>187</td>\n",
       "      <td>345</td>\n",
       "      <td>14</td>\n",
       "      <td>0</td>\n",
       "      <td>0.0</td>\n",
       "      <td>0.0</td>\n",
       "      <td>yes</td>\n",
       "      <td>1</td>\n",
       "    </tr>\n",
       "    <tr>\n",
       "      <th>24000</th>\n",
       "      <td>24001</td>\n",
       "      <td>14500</td>\n",
       "      <td>2.0</td>\n",
       "      <td>2.0</td>\n",
       "      <td>2.0</td>\n",
       "      <td>34.0</td>\n",
       "      <td>0.0</td>\n",
       "      <td>0.0</td>\n",
       "      <td>0.0</td>\n",
       "      <td>0.0</td>\n",
       "      <td>...</td>\n",
       "      <td>NaN</td>\n",
       "      <td>NaN</td>\n",
       "      <td>600</td>\n",
       "      <td>625</td>\n",
       "      <td>550</td>\n",
       "      <td>400</td>\n",
       "      <td>NaN</td>\n",
       "      <td>NaN</td>\n",
       "      <td>no</td>\n",
       "      <td>0</td>\n",
       "    </tr>\n",
       "  </tbody>\n",
       "</table>\n",
       "<p>24001 rows × 26 columns</p>\n",
       "</div>"
      ],
      "text/plain": [
       "       customer_id  limit_bal  sex  education  marriage   age  pay_1  pay_2  \\\n",
       "0                1       1500  2.0        1.0       2.0  23.0    0.0    0.0   \n",
       "1                2       8500  2.0        2.0       2.0  29.0    0.0    0.0   \n",
       "2                3       1000  1.0        1.0       2.0  22.0    0.0    0.0   \n",
       "3                4      10500  1.0        1.0       1.0  31.0    0.0    0.0   \n",
       "4                5      10500  2.0        2.0       1.0  44.0    0.0    0.0   \n",
       "...            ...        ...  ...        ...       ...   ...    ...    ...   \n",
       "23996        23997       1500  2.0        2.0       2.0  27.0    2.0   -1.0   \n",
       "23997        23998       7000  1.0        2.0       2.0  34.0    0.0    0.0   \n",
       "23998        23999       8000  1.0        1.0       2.0  41.0    0.0    0.0   \n",
       "23999        24000       1000  2.0        3.0       1.0  50.0   -1.0   -1.0   \n",
       "24000        24001      14500  2.0        2.0       2.0  34.0    0.0    0.0   \n",
       "\n",
       "       pay_3  pay_4  ...  bill_amt5  bill_amt6  pay_amt1  pay_amt2  pay_amt3  \\\n",
       "0        0.0    2.0  ...      938.0      698.0        75       150        86   \n",
       "1        0.0    0.0  ...     8275.0     8425.0       300       400       315   \n",
       "2        0.0    0.0  ...      772.0      794.0       150       150       150   \n",
       "3        0.0    0.0  ...     7229.0     7340.0       255       260       258   \n",
       "4        0.0    0.0  ...     3592.0     3496.0       180       155       145   \n",
       "...      ...    ...  ...        ...        ...       ...       ...       ...   \n",
       "23996    0.0    0.0  ...       73.0     1402.0       149        73         0   \n",
       "23997    0.0    0.0  ...     2946.0     2932.0       250       110       115   \n",
       "23998    0.0    0.0  ...     2457.0     2616.0       100       100       300   \n",
       "23999   -1.0   -1.0  ...        0.0        0.0       187       345        14   \n",
       "24000    0.0    0.0  ...        NaN        NaN       600       625       550   \n",
       "\n",
       "       pay_amt4  pay_amt5  pay_amt6  default_oct  default_oct_imp  \n",
       "0             0      50.0      50.0          yes                1  \n",
       "1           300     325.0     305.0           no                0  \n",
       "2            24     105.0     110.0           no                0  \n",
       "3           260     265.0     307.0           no                0  \n",
       "4           130     135.0     200.0           no                0  \n",
       "...         ...       ...       ...          ...              ...  \n",
       "23996        73    1402.0      55.0          yes                1  \n",
       "23997       115     105.0     100.0           no                0  \n",
       "23998         0     210.0     100.0           no                0  \n",
       "23999         0       0.0       0.0          yes                1  \n",
       "24000       400       NaN       NaN           no                0  \n",
       "\n",
       "[24001 rows x 26 columns]"
      ]
     },
     "execution_count": 452,
     "metadata": {},
     "output_type": "execute_result"
    }
   ],
   "source": [
    "df"
   ]
  },
  {
   "cell_type": "markdown",
   "id": "bcec65c9",
   "metadata": {},
   "source": [
    "# Analysis"
   ]
  },
  {
   "cell_type": "markdown",
   "id": "b71a3b67",
   "metadata": {},
   "source": [
    "First, I want to investigate the bill amounts - we noticed there were several null values early on.\n",
    "\n",
    "Are there any other interesting things of note?"
   ]
  },
  {
   "cell_type": "code",
   "execution_count": 453,
   "id": "8cbaea0b",
   "metadata": {},
   "outputs": [
    {
     "data": {
      "text/plain": [
       "<AxesSubplot:>"
      ]
     },
     "execution_count": 453,
     "metadata": {},
     "output_type": "execute_result"
    },
    {
     "data": {
      "image/png": "[encoded data removed]",
      "text/plain": [
       "<Figure size 1152x432 with 2 Axes>"
      ]
     },
     "metadata": {
      "needs_background": "light"
     },
     "output_type": "display_data"
    }
   ],
   "source": [
    "plt.figure(figsize=(16,6))\n",
    "sns.heatmap(df.iloc[:, 12:24].corr(), vmin=-1, annot=True)"
   ]
  },
  {
   "cell_type": "markdown",
   "id": "f07ac42e",
   "metadata": {},
   "source": [
    "Correlation among the respective bill amounts is very high - correlations between bill amounts and payment amounts are relatively low. "
   ]
  },
  {
   "cell_type": "code",
   "execution_count": 454,
   "id": "303601b5",
   "metadata": {},
   "outputs": [
    {
     "data": {
      "text/html": [
       "<div>\n",
       "<style scoped>\n",
       "    .dataframe tbody tr th:only-of-type {\n",
       "        vertical-align: middle;\n",
       "    }\n",
       "\n",
       "    .dataframe tbody tr th {\n",
       "        vertical-align: top;\n",
       "    }\n",
       "\n",
       "    .dataframe thead th {\n",
       "        text-align: right;\n",
       "    }\n",
       "</style>\n",
       "<table border=\"1\" class=\"dataframe\">\n",
       "  <thead>\n",
       "    <tr style=\"text-align: right;\">\n",
       "      <th></th>\n",
       "      <th>bill_amt1</th>\n",
       "      <th>bill_amt2</th>\n",
       "      <th>bill_amt3</th>\n",
       "      <th>bill_amt4</th>\n",
       "      <th>bill_amt5</th>\n",
       "      <th>bill_amt6</th>\n",
       "      <th>pay_amt1</th>\n",
       "      <th>pay_amt2</th>\n",
       "      <th>pay_amt3</th>\n",
       "      <th>pay_amt4</th>\n",
       "      <th>pay_amt5</th>\n",
       "      <th>pay_amt6</th>\n",
       "    </tr>\n",
       "  </thead>\n",
       "  <tbody>\n",
       "    <tr>\n",
       "      <th>count</th>\n",
       "      <td>24001.000000</td>\n",
       "      <td>24001.000000</td>\n",
       "      <td>24001.000000</td>\n",
       "      <td>24001.000000</td>\n",
       "      <td>23819.000000</td>\n",
       "      <td>22790.000000</td>\n",
       "      <td>24001.000000</td>\n",
       "      <td>24001.000000</td>\n",
       "      <td>24001.000000</td>\n",
       "      <td>24001.000000</td>\n",
       "      <td>23819.000000</td>\n",
       "      <td>22790.000000</td>\n",
       "    </tr>\n",
       "    <tr>\n",
       "      <th>mean</th>\n",
       "      <td>2574.245865</td>\n",
       "      <td>2467.107037</td>\n",
       "      <td>2359.795592</td>\n",
       "      <td>2175.804383</td>\n",
       "      <td>2024.383559</td>\n",
       "      <td>1960.335981</td>\n",
       "      <td>281.079955</td>\n",
       "      <td>298.237073</td>\n",
       "      <td>263.109704</td>\n",
       "      <td>243.367943</td>\n",
       "      <td>238.731139</td>\n",
       "      <td>256.517069</td>\n",
       "    </tr>\n",
       "    <tr>\n",
       "      <th>std</th>\n",
       "      <td>3706.812804</td>\n",
       "      <td>3585.952168</td>\n",
       "      <td>3499.639871</td>\n",
       "      <td>3244.170936</td>\n",
       "      <td>3063.487512</td>\n",
       "      <td>3015.469078</td>\n",
       "      <td>846.819525</td>\n",
       "      <td>1215.481369</td>\n",
       "      <td>899.406651</td>\n",
       "      <td>782.138847</td>\n",
       "      <td>779.341974</td>\n",
       "      <td>861.106314</td>\n",
       "    </tr>\n",
       "    <tr>\n",
       "      <th>min</th>\n",
       "      <td>-8279.000000</td>\n",
       "      <td>-3488.000000</td>\n",
       "      <td>-3075.000000</td>\n",
       "      <td>-8500.000000</td>\n",
       "      <td>-4066.000000</td>\n",
       "      <td>-10452.000000</td>\n",
       "      <td>0.000000</td>\n",
       "      <td>0.000000</td>\n",
       "      <td>0.000000</td>\n",
       "      <td>0.000000</td>\n",
       "      <td>0.000000</td>\n",
       "      <td>0.000000</td>\n",
       "    </tr>\n",
       "    <tr>\n",
       "      <th>25%</th>\n",
       "      <td>177.000000</td>\n",
       "      <td>147.000000</td>\n",
       "      <td>130.000000</td>\n",
       "      <td>116.000000</td>\n",
       "      <td>90.000000</td>\n",
       "      <td>62.000000</td>\n",
       "      <td>49.000000</td>\n",
       "      <td>41.000000</td>\n",
       "      <td>19.000000</td>\n",
       "      <td>15.000000</td>\n",
       "      <td>12.000000</td>\n",
       "      <td>6.000000</td>\n",
       "    </tr>\n",
       "    <tr>\n",
       "      <th>50%</th>\n",
       "      <td>1123.000000</td>\n",
       "      <td>1059.000000</td>\n",
       "      <td>1007.000000</td>\n",
       "      <td>953.000000</td>\n",
       "      <td>906.000000</td>\n",
       "      <td>855.500000</td>\n",
       "      <td>105.000000</td>\n",
       "      <td>100.000000</td>\n",
       "      <td>90.000000</td>\n",
       "      <td>75.000000</td>\n",
       "      <td>75.000000</td>\n",
       "      <td>75.000000</td>\n",
       "    </tr>\n",
       "    <tr>\n",
       "      <th>75%</th>\n",
       "      <td>3375.000000</td>\n",
       "      <td>3202.000000</td>\n",
       "      <td>3015.000000</td>\n",
       "      <td>2752.000000</td>\n",
       "      <td>2510.500000</td>\n",
       "      <td>2466.000000</td>\n",
       "      <td>250.000000</td>\n",
       "      <td>250.000000</td>\n",
       "      <td>227.000000</td>\n",
       "      <td>200.000000</td>\n",
       "      <td>200.000000</td>\n",
       "      <td>200.000000</td>\n",
       "    </tr>\n",
       "    <tr>\n",
       "      <th>max</th>\n",
       "      <td>48225.000000</td>\n",
       "      <td>49196.000000</td>\n",
       "      <td>83204.000000</td>\n",
       "      <td>44579.000000</td>\n",
       "      <td>46358.000000</td>\n",
       "      <td>48083.000000</td>\n",
       "      <td>43677.000000</td>\n",
       "      <td>84212.000000</td>\n",
       "      <td>44802.000000</td>\n",
       "      <td>31050.000000</td>\n",
       "      <td>21326.000000</td>\n",
       "      <td>26433.000000</td>\n",
       "    </tr>\n",
       "  </tbody>\n",
       "</table>\n",
       "</div>"
      ],
      "text/plain": [
       "          bill_amt1     bill_amt2     bill_amt3     bill_amt4     bill_amt5  \\\n",
       "count  24001.000000  24001.000000  24001.000000  24001.000000  23819.000000   \n",
       "mean    2574.245865   2467.107037   2359.795592   2175.804383   2024.383559   \n",
       "std     3706.812804   3585.952168   3499.639871   3244.170936   3063.487512   \n",
       "min    -8279.000000  -3488.000000  -3075.000000  -8500.000000  -4066.000000   \n",
       "25%      177.000000    147.000000    130.000000    116.000000     90.000000   \n",
       "50%     1123.000000   1059.000000   1007.000000    953.000000    906.000000   \n",
       "75%     3375.000000   3202.000000   3015.000000   2752.000000   2510.500000   \n",
       "max    48225.000000  49196.000000  83204.000000  44579.000000  46358.000000   \n",
       "\n",
       "          bill_amt6      pay_amt1      pay_amt2      pay_amt3      pay_amt4  \\\n",
       "count  22790.000000  24001.000000  24001.000000  24001.000000  24001.000000   \n",
       "mean    1960.335981    281.079955    298.237073    263.109704    243.367943   \n",
       "std     3015.469078    846.819525   1215.481369    899.406651    782.138847   \n",
       "min   -10452.000000      0.000000      0.000000      0.000000      0.000000   \n",
       "25%       62.000000     49.000000     41.000000     19.000000     15.000000   \n",
       "50%      855.500000    105.000000    100.000000     90.000000     75.000000   \n",
       "75%     2466.000000    250.000000    250.000000    227.000000    200.000000   \n",
       "max    48083.000000  43677.000000  84212.000000  44802.000000  31050.000000   \n",
       "\n",
       "           pay_amt5      pay_amt6  \n",
       "count  23819.000000  22790.000000  \n",
       "mean     238.731139    256.517069  \n",
       "std      779.341974    861.106314  \n",
       "min        0.000000      0.000000  \n",
       "25%       12.000000      6.000000  \n",
       "50%       75.000000     75.000000  \n",
       "75%      200.000000    200.000000  \n",
       "max    21326.000000  26433.000000  "
      ]
     },
     "execution_count": 454,
     "metadata": {},
     "output_type": "execute_result"
    }
   ],
   "source": [
    "df.iloc[:, 12:24].describe()"
   ]
  },
  {
   "cell_type": "markdown",
   "id": "cec3ddba",
   "metadata": {},
   "source": [
    "We also observe negative bill amounts (notice that the row 'min' displays negative values). To find those records, we will serach the df for negative bill values."
   ]
  },
  {
   "cell_type": "code",
   "execution_count": 455,
   "id": "e777fedd",
   "metadata": {},
   "outputs": [
    {
     "data": {
      "image/png": "[encoded data removed]",
      "text/plain": [
       "<Figure size 576x360 with 1 Axes>"
      ]
     },
     "metadata": {
      "needs_background": "light"
     },
     "output_type": "display_data"
    }
   ],
   "source": [
    "df_sex = df.groupby('sex')['default_oct'].value_counts(normalize=True).unstack()\n",
    "df_sex.plot(kind='bar', stacked=True, figsize=(8,5), alpha=0.7)\n",
    "plt.show()"
   ]
  },
  {
   "cell_type": "markdown",
   "id": "303922e0",
   "metadata": {},
   "source": [
    "No apparent differences between men and women in terms of proportion of default accounts"
   ]
  },
  {
   "cell_type": "code",
   "execution_count": 456,
   "id": "652ac6ef",
   "metadata": {},
   "outputs": [
    {
     "data": {
      "image/png": "[encoded data removed]",
      "text/plain": [
       "<Figure size 576x360 with 1 Axes>"
      ]
     },
     "metadata": {
      "needs_background": "light"
     },
     "output_type": "display_data"
    }
   ],
   "source": [
    "df_edu = df.groupby('education')['default_oct'].value_counts(normalize=True).unstack()\n",
    "df_edu.plot(kind='bar', stacked=True, figsize=(8,5), alpha=0.7)\n",
    "plt.show()"
   ]
  },
  {
   "cell_type": "code",
   "execution_count": 457,
   "id": "7e8e525f",
   "metadata": {},
   "outputs": [
    {
     "data": {
      "image/png": "[encoded data removed]",
      "text/plain": [
       "<Figure size 432x288 with 1 Axes>"
      ]
     },
     "metadata": {
      "needs_background": "light"
     },
     "output_type": "display_data"
    }
   ],
   "source": [
    "data = []\n",
    "for i in [1,2,3,4]:\n",
    "    temp = df.loc[df['education'] == i, \"limit_bal\"]\n",
    "    data.append(temp)\n",
    "    \n",
    "fig, ax = plt.subplots()\n",
    "ax.boxplot(data)\n",
    "ax.set_xticklabels([\"grad school\",\"university\", \"high school\", \"others\"])\n",
    "\n",
    "plt.show()"
   ]
  },
  {
   "cell_type": "markdown",
   "id": "a54a10c0",
   "metadata": {},
   "source": [
    "Something interesting of note here - custoemrs with the highest level of education are at the upper end of the spectrum when it comes to paying back in full, however there are some outliers in the 'others' category, which has a surprisingly low percentage. \n",
    "\n",
    "Additionally, the 'others' category does not have the lowest limit median limit balance - our 'others' label could include those who have a doctorate degree or dropped out of and became very well off thanks to an amazing dream/opportunity."
   ]
  },
  {
   "cell_type": "code",
   "execution_count": 458,
   "id": "e3507a8e",
   "metadata": {},
   "outputs": [
    {
     "data": {
      "image/png": "[encoded data removed]",
      "text/plain": [
       "<Figure size 576x360 with 1 Axes>"
      ]
     },
     "metadata": {
      "needs_background": "light"
     },
     "output_type": "display_data"
    }
   ],
   "source": [
    "df_married = df.groupby('marriage')['default_oct'].value_counts(normalize=True).unstack()\n",
    "df_married.plot(kind='bar', stacked=True, figsize=(8,5), alpha=0.7)\n",
    "plt.show()"
   ]
  },
  {
   "cell_type": "markdown",
   "id": "63f11b2e",
   "metadata": {},
   "source": [
    "No apparent differences between marriage status and outcomes of defaults."
   ]
  },
  {
   "cell_type": "code",
   "execution_count": 484,
   "id": "167beea5",
   "metadata": {},
   "outputs": [
    {
     "data": {
      "image/png": "[encoded data removed]",
      "text/plain": [
       "<Figure size 576x360 with 1 Axes>"
      ]
     },
     "metadata": {
      "needs_background": "light"
     },
     "output_type": "display_data"
    }
   ],
   "source": [
    "df_age = df.groupby('age_bin')['default_oct'].value_counts(normalize=True).unstack()\n",
    "df_age.plot(kind='bar', stacked=True, figsize=(8,5), alpha=0.7)\n",
    "plt.show()"
   ]
  },
  {
   "cell_type": "code",
   "execution_count": 459,
   "id": "8ac11ffe",
   "metadata": {},
   "outputs": [
    {
     "data": {
      "image/png": "[encoded data removed]",
      "text/plain": [
       "<Figure size 432x288 with 1 Axes>"
      ]
     },
     "metadata": {
      "needs_background": "light"
     },
     "output_type": "display_data"
    }
   ],
   "source": [
    "defaulted = df[df['default_oct_imp']==1]\n",
    "default_trend = defaulted[['pay_6','pay_5','pay_4','pay_3','pay_2','pay_1']].sum(axis=0)\n",
    "\n",
    "# # Draw a line chart to show the trend. The lower the number, the shorter delayed payment\n",
    "fig,ax = plt.subplots()\n",
    "ax.plot(default_trend)\n",
    "plt.xticks(['pay_6','pay_5','pay_4','pay_3','pay_2','pay_1'],['Apr','May','Jun','Jul','Aug','Sep'])\n",
    "plt.show()"
   ]
  },
  {
   "cell_type": "markdown",
   "id": "88deab30",
   "metadata": {},
   "source": [
    "Time series trend - over time, the amount of delayed payments from April to September dramatically."
   ]
  },
  {
   "cell_type": "markdown",
   "id": "57c5b614",
   "metadata": {},
   "source": [
    "So, what can we gather from our data? \n",
    "\n",
    "It appears that delayed payments would be a serious concern for the business. There aren't too many differences between our categorical variables (sex, marriage status, and education).\n",
    "\n",
    "We see that there are strong correlations between bill statements, but not between payment amounts. This could indicate to us that over each month, individuals who have high bill statements will continue to have high bill statements over the subsequent months.\n",
    "\n",
    "Now this leaves us with the question - how can use what we have gathered to predict the probability of a customer defaulting on their credit card?"
   ]
  },
  {
   "cell_type": "markdown",
   "id": "9bbf1ce3",
   "metadata": {},
   "source": [
    "# Model and Results"
   ]
  },
  {
   "cell_type": "markdown",
   "id": "7c2279fa",
   "metadata": {},
   "source": [
    "Because I am interested in the probability of an individual defaulting, my model of choice will be a XGBClassifier with a logistic outcome (indicating the occurrence of defaulting or not)."
   ]
  },
  {
   "cell_type": "markdown",
   "id": "051eabc3",
   "metadata": {},
   "source": [
    "### Selecting our Features"
   ]
  },
  {
   "cell_type": "code",
   "execution_count": 461,
   "id": "4702165f",
   "metadata": {},
   "outputs": [],
   "source": [
    "X = df.drop(columns=['customer_id', 'default_oct', 'default_oct_imp']) ##dropping our created columns\n",
    "y = df['default_oct_imp'] ##default the month of october, imputed as 0,1 for no,yes"
   ]
  },
  {
   "cell_type": "markdown",
   "id": "f4da19a5",
   "metadata": {},
   "source": [
    "Splitting our data into train and test sets for our model"
   ]
  },
  {
   "cell_type": "code",
   "execution_count": 462,
   "id": "6467314c",
   "metadata": {},
   "outputs": [],
   "source": [
    "X_train, X_test, y_train, y_test = train_test_split(X, y, test_size=0.2, random_state=11)"
   ]
  },
  {
   "cell_type": "markdown",
   "id": "fd6b9add",
   "metadata": {},
   "source": [
    "### Building our model.\n",
    "\n",
    "I chose a learning rate of 0.05 (standard is between 0.1 and 0.3)\n",
    "My number of estimators is 300 (traditionally, you would select a range from 100 to 500) \n",
    "The default max depth in XGBoost is 6.\n",
    "\n",
    "Given more time, I would have like to tune the hyperparameters and compare different models, but given the time constraint we will settle for middle of the road hyperparameters."
   ]
  },
  {
   "cell_type": "code",
   "execution_count": 463,
   "id": "99b226c2",
   "metadata": {},
   "outputs": [
    {
     "data": {
      "text/plain": [
       "XGBClassifier(base_score=0.5, booster='gbtree', callbacks=None,\n",
       "              colsample_bylevel=1, colsample_bynode=1, colsample_bytree=1,\n",
       "              early_stopping_rounds=None, enable_categorical=False,\n",
       "              eval_metric='mlogloss', feature_types=None, gamma=0, gpu_id=-1,\n",
       "              grow_policy='depthwise', importance_type=None,\n",
       "              interaction_constraints='', learning_rate=0.05, max_bin=256,\n",
       "              max_cat_threshold=64, max_cat_to_onehot=4, max_delta_step=0,\n",
       "              max_depth=5, max_leaves=0, min_child_weight=1, missing=nan,\n",
       "              monotone_constraints='()', n_estimators=300, n_jobs=0,\n",
       "              num_parallel_tree=1, predictor='auto', random_state=0, ...)"
      ]
     },
     "execution_count": 463,
     "metadata": {},
     "output_type": "execute_result"
    }
   ],
   "source": [
    "xg_model = XGBClassifier(learning_rate = 0.05, n_estimators=300, max_depth=5, eval_metric ='mlogloss')\n",
    "xg_model.fit(X_train, y_train)"
   ]
  },
  {
   "cell_type": "markdown",
   "id": "af605673",
   "metadata": {},
   "source": [
    "### XGBoost Accuracy"
   ]
  },
  {
   "cell_type": "code",
   "execution_count": 464,
   "id": "5c4b2c1c",
   "metadata": {},
   "outputs": [
    {
     "name": "stdout",
     "output_type": "stream",
     "text": [
      "Accuracy: 81.63%\n"
     ]
    }
   ],
   "source": [
    "y_pred = xg_model.predict(X_test)\n",
    "predictions = [round(value) for value in y_pred]\n",
    "\n",
    "accuracy = accuracy_score(y_test, predictions)\n",
    "print(\"Accuracy: %.2f%%\" % (accuracy * 100.0))"
   ]
  },
  {
   "cell_type": "markdown",
   "id": "0fee7b58",
   "metadata": {},
   "source": [
    "### XGBoost Model Evaluation"
   ]
  },
  {
   "cell_type": "code",
   "execution_count": 465,
   "id": "71ec149b",
   "metadata": {},
   "outputs": [],
   "source": [
    "def get_pre_rec_f1(model,X_test,y_test):\n",
    "    y_pred = model.predict(X_test)\n",
    "    tn, fp, fn, tp = confusion_matrix(y_test, y_pred).ravel()\n",
    "    \n",
    "    precision = tp / (tp + fp)\n",
    "    recall = tp / (tp + fn)\n",
    "    F1 = 2 * (precision * recall) / (precision + recall)\n",
    "    \n",
    "    print(f'Precision:{precision:.3f}\\nRecall:{recall:.3f}\\nF1 score:{F1:.3f}')"
   ]
  },
  {
   "cell_type": "code",
   "execution_count": 466,
   "id": "1ed824ff",
   "metadata": {},
   "outputs": [
    {
     "name": "stdout",
     "output_type": "stream",
     "text": [
      "Precision:0.684\n",
      "Recall:0.356\n",
      "F1 score:0.468\n"
     ]
    }
   ],
   "source": [
    "get_pre_rec_f1(xg_model, X_test, y_test)"
   ]
  },
  {
   "cell_type": "markdown",
   "id": "2a5a990f",
   "metadata": {},
   "source": [
    "### Confusion Matrix"
   ]
  },
  {
   "cell_type": "code",
   "execution_count": 467,
   "id": "a2a19989",
   "metadata": {},
   "outputs": [
    {
     "data": {
      "text/plain": [
       "<sklearn.metrics._plot.confusion_matrix.ConfusionMatrixDisplay at 0x7fc495100280>"
      ]
     },
     "execution_count": 467,
     "metadata": {},
     "output_type": "execute_result"
    },
    {
     "data": {
      "image/png": "[encoded data removed]",
      "text/plain": [
       "<Figure size 432x288 with 2 Axes>"
      ]
     },
     "metadata": {
      "needs_background": "light"
     },
     "output_type": "display_data"
    }
   ],
   "source": [
    "plot_confusion_matrix(xg_model, X_test, y_test, values_format=\"d\")"
   ]
  },
  {
   "cell_type": "markdown",
   "id": "b376fa71",
   "metadata": {},
   "source": [
    "### ROC Curve"
   ]
  },
  {
   "cell_type": "code",
   "execution_count": 468,
   "id": "a9bfeed2",
   "metadata": {},
   "outputs": [
    {
     "data": {
      "text/plain": [
       "<sklearn.metrics._plot.roc_curve.RocCurveDisplay at 0x7fc481e474c0>"
      ]
     },
     "execution_count": 468,
     "metadata": {},
     "output_type": "execute_result"
    },
    {
     "data": {
      "image/png": "[encoded data removed]",
      "text/plain": [
       "<Figure size 432x288 with 1 Axes>"
      ]
     },
     "metadata": {
      "needs_background": "light"
     },
     "output_type": "display_data"
    }
   ],
   "source": [
    "plot_roc_curve(xg_model, X_test, y_test, color=\"blue\",label='XGBoost')"
   ]
  },
  {
   "cell_type": "markdown",
   "id": "adb51a85",
   "metadata": {},
   "source": [
    "## Looking at the sorted feature importance"
   ]
  },
  {
   "cell_type": "code",
   "execution_count": 469,
   "id": "ae93df83",
   "metadata": {
    "scrolled": false
   },
   "outputs": [
    {
     "data": {
      "text/plain": [
       "<BarContainer object of 23 artists>"
      ]
     },
     "execution_count": 469,
     "metadata": {},
     "output_type": "execute_result"
    },
    {
     "data": {
      "image/png": "[encoded data removed]",
      "text/plain": [
       "<Figure size 1152x432 with 1 Axes>"
      ]
     },
     "metadata": {
      "needs_background": "light"
     },
     "output_type": "display_data"
    }
   ],
   "source": [
    "plt.figure(figsize=(16,6))\n",
    "sorted_idx = xg_model.feature_importances_.argsort()\n",
    "plt.barh(X.columns[sorted_idx] , xg_model.feature_importances_[sorted_idx])\n"
   ]
  },
  {
   "cell_type": "code",
   "execution_count": 470,
   "id": "52a00420",
   "metadata": {
    "scrolled": false
   },
   "outputs": [
    {
     "name": "stdout",
     "output_type": "stream",
     "text": [
      "Thresh=0.014, n=23, Accuracy: 81.02%\n",
      "Thresh=0.015, n=22, Accuracy: 80.65%\n",
      "Thresh=0.016, n=21, Accuracy: 81.07%\n",
      "Thresh=0.016, n=20, Accuracy: 80.98%\n",
      "Thresh=0.017, n=19, Accuracy: 80.90%\n",
      "Thresh=0.017, n=18, Accuracy: 80.80%\n",
      "Thresh=0.017, n=17, Accuracy: 80.88%\n",
      "Thresh=0.017, n=16, Accuracy: 80.80%\n",
      "Thresh=0.017, n=15, Accuracy: 80.98%\n",
      "Thresh=0.018, n=14, Accuracy: 80.67%\n",
      "Thresh=0.019, n=13, Accuracy: 81.42%\n",
      "Thresh=0.019, n=12, Accuracy: 80.88%\n",
      "Thresh=0.023, n=11, Accuracy: 80.86%\n",
      "Thresh=0.023, n=10, Accuracy: 80.98%\n",
      "Thresh=0.023, n=9, Accuracy: 81.42%\n",
      "Thresh=0.024, n=8, Accuracy: 81.15%\n",
      "Thresh=0.024, n=7, Accuracy: 81.21%\n",
      "Thresh=0.025, n=6, Accuracy: 81.50%\n",
      "Thresh=0.038, n=5, Accuracy: 81.86%\n",
      "Thresh=0.041, n=4, Accuracy: 81.59%\n",
      "Thresh=0.045, n=3, Accuracy: 81.63%\n",
      "Thresh=0.131, n=2, Accuracy: 81.63%\n",
      "Thresh=0.400, n=1, Accuracy: 81.46%\n"
     ]
    }
   ],
   "source": [
    "thresholds = np.sort(xg_model.feature_importances_)\n",
    "for thresh in thresholds:\n",
    "    # select features using threshold\n",
    "    selection = SelectFromModel(xg_model, threshold=thresh, prefit=True)\n",
    "    select_X_train = selection.transform(X_train)\n",
    "    \n",
    "    # train model\n",
    "    selection_model = XGBClassifier()\n",
    "    selection_model.fit(select_X_train, y_train)\n",
    "    \n",
    "    # eval model\n",
    "    select_X_test = selection.transform(X_test)\n",
    "    y_pred = selection_model.predict(select_X_test)\n",
    "    predictions = [round(value) for value in y_pred]\n",
    "    accuracy = accuracy_score(y_test, predictions)\n",
    "    print(\"Thresh=%.3f, n=%d, Accuracy: %.2f%%\" % (thresh, select_X_train.shape[1], accuracy*100.0))"
   ]
  },
  {
   "cell_type": "markdown",
   "id": "ec4f8ed1",
   "metadata": {},
   "source": [
    "Even when we decreased our selected features, the apparent accuracy of the model didn't seem to change much.\n",
    "\n",
    "Ideally, since we want to create as least-complex of a model as possible, and since our trade off of 81.63% accuracy to 81.86% is pretty good, I will select the top 5 features from our feature importance for our final model."
   ]
  },
  {
   "cell_type": "code",
   "execution_count": 471,
   "id": "e6c7d7e5",
   "metadata": {},
   "outputs": [],
   "source": [
    "new_set = df[['pay_1', 'pay_2', 'pay_3', 'pay_4', 'pay_5']]\n",
    "new_y = df['default_oct_imp']"
   ]
  },
  {
   "cell_type": "markdown",
   "id": "24601935",
   "metadata": {},
   "source": [
    "By selecting the top 5 feature (which also happens to be the history of past payment), we make the assumption that the best indicators of a customer default will be their past payment history. This might hold implications in the future for when deciding at what month a customer may run the 'risk' of defaulting."
   ]
  },
  {
   "cell_type": "code",
   "execution_count": 472,
   "id": "729660c1",
   "metadata": {},
   "outputs": [],
   "source": [
    "X_train, X_test, y_train, y_test = train_test_split(new_set, new_y, test_size=0.2, random_state=11)"
   ]
  },
  {
   "cell_type": "code",
   "execution_count": 473,
   "id": "e0912bbe",
   "metadata": {},
   "outputs": [
    {
     "data": {
      "text/plain": [
       "XGBClassifier(base_score=0.5, booster='gbtree', callbacks=None,\n",
       "              colsample_bylevel=1, colsample_bynode=1, colsample_bytree=1,\n",
       "              early_stopping_rounds=None, enable_categorical=False,\n",
       "              eval_metric='mlogloss', feature_types=None, gamma=0, gpu_id=-1,\n",
       "              grow_policy='depthwise', importance_type=None,\n",
       "              interaction_constraints='', learning_rate=0.05, max_bin=256,\n",
       "              max_cat_threshold=64, max_cat_to_onehot=4, max_delta_step=0,\n",
       "              max_depth=5, max_leaves=0, min_child_weight=1, missing=nan,\n",
       "              monotone_constraints='()', n_estimators=300, n_jobs=0,\n",
       "              num_parallel_tree=1, predictor='auto', random_state=0, ...)"
      ]
     },
     "execution_count": 473,
     "metadata": {},
     "output_type": "execute_result"
    }
   ],
   "source": [
    "xgb_new = XGBClassifier(learning_rate = 0.05, n_estimators=300, max_depth=5, eval_metric ='mlogloss')\n",
    "xgb_new.fit(X_train, y_train)"
   ]
  },
  {
   "cell_type": "code",
   "execution_count": 474,
   "id": "373db3e8",
   "metadata": {},
   "outputs": [
    {
     "name": "stdout",
     "output_type": "stream",
     "text": [
      "Accuracy: 81.88%\n"
     ]
    }
   ],
   "source": [
    "y_pred = xgb_new.predict(X_test)\n",
    "predictions = [round(value) for value in y_pred]\n",
    "\n",
    "accuracy = accuracy_score(y_test, predictions)\n",
    "print(\"Accuracy: %.2f%%\" % (accuracy * 100.0))"
   ]
  },
  {
   "cell_type": "markdown",
   "id": "b903b35c",
   "metadata": {},
   "source": [
    "## Test set and Predictions Export"
   ]
  },
  {
   "cell_type": "markdown",
   "id": "9444e77d",
   "metadata": {},
   "source": [
    "From the test set, we select the first 5 months of history payment as our features, and implement our model."
   ]
  },
  {
   "cell_type": "code",
   "execution_count": 475,
   "id": "80fe8fd8",
   "metadata": {},
   "outputs": [],
   "source": [
    "test_final = test[['pay_1', 'pay_2', 'pay_3', 'pay_4', 'pay_5']]"
   ]
  },
  {
   "cell_type": "code",
   "execution_count": 476,
   "id": "c6864a67",
   "metadata": {},
   "outputs": [],
   "source": [
    "test_pred = xgb_new.predict(test_final)"
   ]
  },
  {
   "cell_type": "code",
   "execution_count": 477,
   "id": "4ce681bd",
   "metadata": {},
   "outputs": [],
   "source": [
    "prob = pd.DataFrame(xgb_new.predict_proba(test_final)[:,1])\n",
    "prob.columns = ['pr_y']"
   ]
  },
  {
   "cell_type": "code",
   "execution_count": 478,
   "id": "1aacc638",
   "metadata": {},
   "outputs": [],
   "source": [
    "customer_id = pd.DataFrame(test['customer_id'])\n",
    "predictions = pd.merge(customer_id, prob, left_index=True, right_index=True)"
   ]
  },
  {
   "cell_type": "code",
   "execution_count": 479,
   "id": "aaa902bf",
   "metadata": {},
   "outputs": [
    {
     "data": {
      "text/html": [
       "<div>\n",
       "<style scoped>\n",
       "    .dataframe tbody tr th:only-of-type {\n",
       "        vertical-align: middle;\n",
       "    }\n",
       "\n",
       "    .dataframe tbody tr th {\n",
       "        vertical-align: top;\n",
       "    }\n",
       "\n",
       "    .dataframe thead th {\n",
       "        text-align: right;\n",
       "    }\n",
       "</style>\n",
       "<table border=\"1\" class=\"dataframe\">\n",
       "  <thead>\n",
       "    <tr style=\"text-align: right;\">\n",
       "      <th></th>\n",
       "      <th>customer_id</th>\n",
       "      <th>pr_y</th>\n",
       "    </tr>\n",
       "  </thead>\n",
       "  <tbody>\n",
       "    <tr>\n",
       "      <th>0</th>\n",
       "      <td>24002</td>\n",
       "      <td>0.117230</td>\n",
       "    </tr>\n",
       "    <tr>\n",
       "      <th>1</th>\n",
       "      <td>24003</td>\n",
       "      <td>0.140311</td>\n",
       "    </tr>\n",
       "    <tr>\n",
       "      <th>2</th>\n",
       "      <td>24004</td>\n",
       "      <td>0.661444</td>\n",
       "    </tr>\n",
       "    <tr>\n",
       "      <th>3</th>\n",
       "      <td>24005</td>\n",
       "      <td>0.439905</td>\n",
       "    </tr>\n",
       "    <tr>\n",
       "      <th>4</th>\n",
       "      <td>24006</td>\n",
       "      <td>0.439905</td>\n",
       "    </tr>\n",
       "    <tr>\n",
       "      <th>...</th>\n",
       "      <td>...</td>\n",
       "      <td>...</td>\n",
       "    </tr>\n",
       "    <tr>\n",
       "      <th>5994</th>\n",
       "      <td>29996</td>\n",
       "      <td>0.320690</td>\n",
       "    </tr>\n",
       "    <tr>\n",
       "      <th>5995</th>\n",
       "      <td>29997</td>\n",
       "      <td>0.111847</td>\n",
       "    </tr>\n",
       "    <tr>\n",
       "      <th>5996</th>\n",
       "      <td>29998</td>\n",
       "      <td>0.111847</td>\n",
       "    </tr>\n",
       "    <tr>\n",
       "      <th>5997</th>\n",
       "      <td>29999</td>\n",
       "      <td>0.398574</td>\n",
       "    </tr>\n",
       "    <tr>\n",
       "      <th>5998</th>\n",
       "      <td>30000</td>\n",
       "      <td>0.111847</td>\n",
       "    </tr>\n",
       "  </tbody>\n",
       "</table>\n",
       "<p>5999 rows × 2 columns</p>\n",
       "</div>"
      ],
      "text/plain": [
       "      customer_id      pr_y\n",
       "0           24002  0.117230\n",
       "1           24003  0.140311\n",
       "2           24004  0.661444\n",
       "3           24005  0.439905\n",
       "4           24006  0.439905\n",
       "...           ...       ...\n",
       "5994        29996  0.320690\n",
       "5995        29997  0.111847\n",
       "5996        29998  0.111847\n",
       "5997        29999  0.398574\n",
       "5998        30000  0.111847\n",
       "\n",
       "[5999 rows x 2 columns]"
      ]
     },
     "execution_count": 479,
     "metadata": {},
     "output_type": "execute_result"
    }
   ],
   "source": [
    "predictions"
   ]
  },
  {
   "cell_type": "code",
   "execution_count": 480,
   "id": "7da3dc97",
   "metadata": {},
   "outputs": [
    {
     "data": {
      "text/plain": [
       "'Christine_Gao_predictions.csv written in 0.000 ms'"
      ]
     },
     "execution_count": 480,
     "metadata": {},
     "output_type": "execute_result"
    }
   ],
   "source": [
    "make_submission('Christine_Gao_predictions', predictions)"
   ]
  },
  {
   "cell_type": "code",
   "execution_count": null,
   "id": "b47f9842",
   "metadata": {},
   "outputs": [],
   "source": []
  }
 ],
 "metadata": {
  "kernelspec": {
   "display_name": "Python 3 (ipykernel)",
   "language": "python",
   "name": "python3"
  },
  "language_info": {
   "codemirror_mode": {
    "name": "ipython",
    "version": 3
   },
   "file_extension": ".py",
   "mimetype": "text/x-python",
   "name": "python",
   "nbconvert_exporter": "python",
   "pygments_lexer": "ipython3",
   "version": "3.9.12"
  }
 },
 "nbformat": 4,
 "nbformat_minor": 5
}
